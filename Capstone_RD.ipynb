{
 "cells": [
  {
   "cell_type": "code",
   "execution_count": 47,
   "metadata": {
    "collapsed": false
   },
   "outputs": [],
   "source": [
    "import pandas as pd\n",
    "import numpy as np\n",
    "from sklearn.preprocessing import StandardScaler\n",
    "from sklearn.cross_validation import KFold\n",
    "from sklearn.metrics import confusion_matrix\n",
    "from sklearn.model_selection import GridSearchCV"
   ]
  },
  {
   "cell_type": "code",
   "execution_count": 48,
   "metadata": {
    "collapsed": true
   },
   "outputs": [],
   "source": [
    "churn_data = pd.read_csv('/Users/amybrown/Thinkful/Capstone/Data/WA_Fn-UseC_-Telco-Customer-Churn.csv')\n",
    "churn_data['SeniorCitizen'] = churn_data['SeniorCitizen'].astype(str)"
   ]
  },
  {
   "cell_type": "code",
   "execution_count": 49,
   "metadata": {
    "collapsed": false
   },
   "outputs": [
    {
     "data": {
      "text/html": [
       "<div>\n",
       "<table border=\"1\" class=\"dataframe\">\n",
       "  <thead>\n",
       "    <tr style=\"text-align: right;\">\n",
       "      <th></th>\n",
       "      <th>customerID</th>\n",
       "      <th>gender</th>\n",
       "      <th>SeniorCitizen</th>\n",
       "      <th>Partner</th>\n",
       "      <th>Dependents</th>\n",
       "      <th>tenure</th>\n",
       "      <th>PhoneService</th>\n",
       "      <th>MultipleLines</th>\n",
       "      <th>InternetService</th>\n",
       "      <th>OnlineSecurity</th>\n",
       "      <th>...</th>\n",
       "      <th>DeviceProtection</th>\n",
       "      <th>TechSupport</th>\n",
       "      <th>StreamingTV</th>\n",
       "      <th>StreamingMovies</th>\n",
       "      <th>Contract</th>\n",
       "      <th>PaperlessBilling</th>\n",
       "      <th>PaymentMethod</th>\n",
       "      <th>MonthlyCharges</th>\n",
       "      <th>TotalCharges</th>\n",
       "      <th>Churn</th>\n",
       "    </tr>\n",
       "  </thead>\n",
       "  <tbody>\n",
       "    <tr>\n",
       "      <th>0</th>\n",
       "      <td>7590-VHVEG</td>\n",
       "      <td>Female</td>\n",
       "      <td>0</td>\n",
       "      <td>Yes</td>\n",
       "      <td>No</td>\n",
       "      <td>1</td>\n",
       "      <td>No</td>\n",
       "      <td>No phone service</td>\n",
       "      <td>DSL</td>\n",
       "      <td>No</td>\n",
       "      <td>...</td>\n",
       "      <td>No</td>\n",
       "      <td>No</td>\n",
       "      <td>No</td>\n",
       "      <td>No</td>\n",
       "      <td>Month-to-month</td>\n",
       "      <td>Yes</td>\n",
       "      <td>Electronic check</td>\n",
       "      <td>29.85</td>\n",
       "      <td>29.85</td>\n",
       "      <td>No</td>\n",
       "    </tr>\n",
       "    <tr>\n",
       "      <th>1</th>\n",
       "      <td>5575-GNVDE</td>\n",
       "      <td>Male</td>\n",
       "      <td>0</td>\n",
       "      <td>No</td>\n",
       "      <td>No</td>\n",
       "      <td>34</td>\n",
       "      <td>Yes</td>\n",
       "      <td>No</td>\n",
       "      <td>DSL</td>\n",
       "      <td>Yes</td>\n",
       "      <td>...</td>\n",
       "      <td>Yes</td>\n",
       "      <td>No</td>\n",
       "      <td>No</td>\n",
       "      <td>No</td>\n",
       "      <td>One year</td>\n",
       "      <td>No</td>\n",
       "      <td>Mailed check</td>\n",
       "      <td>56.95</td>\n",
       "      <td>1889.50</td>\n",
       "      <td>No</td>\n",
       "    </tr>\n",
       "    <tr>\n",
       "      <th>2</th>\n",
       "      <td>3668-QPYBK</td>\n",
       "      <td>Male</td>\n",
       "      <td>0</td>\n",
       "      <td>No</td>\n",
       "      <td>No</td>\n",
       "      <td>2</td>\n",
       "      <td>Yes</td>\n",
       "      <td>No</td>\n",
       "      <td>DSL</td>\n",
       "      <td>Yes</td>\n",
       "      <td>...</td>\n",
       "      <td>No</td>\n",
       "      <td>No</td>\n",
       "      <td>No</td>\n",
       "      <td>No</td>\n",
       "      <td>Month-to-month</td>\n",
       "      <td>Yes</td>\n",
       "      <td>Mailed check</td>\n",
       "      <td>53.85</td>\n",
       "      <td>108.15</td>\n",
       "      <td>Yes</td>\n",
       "    </tr>\n",
       "    <tr>\n",
       "      <th>3</th>\n",
       "      <td>7795-CFOCW</td>\n",
       "      <td>Male</td>\n",
       "      <td>0</td>\n",
       "      <td>No</td>\n",
       "      <td>No</td>\n",
       "      <td>45</td>\n",
       "      <td>No</td>\n",
       "      <td>No phone service</td>\n",
       "      <td>DSL</td>\n",
       "      <td>Yes</td>\n",
       "      <td>...</td>\n",
       "      <td>Yes</td>\n",
       "      <td>Yes</td>\n",
       "      <td>No</td>\n",
       "      <td>No</td>\n",
       "      <td>One year</td>\n",
       "      <td>No</td>\n",
       "      <td>Bank transfer (automatic)</td>\n",
       "      <td>42.30</td>\n",
       "      <td>1840.75</td>\n",
       "      <td>No</td>\n",
       "    </tr>\n",
       "    <tr>\n",
       "      <th>4</th>\n",
       "      <td>9237-HQITU</td>\n",
       "      <td>Female</td>\n",
       "      <td>0</td>\n",
       "      <td>No</td>\n",
       "      <td>No</td>\n",
       "      <td>2</td>\n",
       "      <td>Yes</td>\n",
       "      <td>No</td>\n",
       "      <td>Fiber optic</td>\n",
       "      <td>No</td>\n",
       "      <td>...</td>\n",
       "      <td>No</td>\n",
       "      <td>No</td>\n",
       "      <td>No</td>\n",
       "      <td>No</td>\n",
       "      <td>Month-to-month</td>\n",
       "      <td>Yes</td>\n",
       "      <td>Electronic check</td>\n",
       "      <td>70.70</td>\n",
       "      <td>151.65</td>\n",
       "      <td>Yes</td>\n",
       "    </tr>\n",
       "  </tbody>\n",
       "</table>\n",
       "<p>5 rows × 21 columns</p>\n",
       "</div>"
      ],
      "text/plain": [
       "   customerID  gender SeniorCitizen Partner Dependents  tenure PhoneService  \\\n",
       "0  7590-VHVEG  Female             0     Yes         No       1           No   \n",
       "1  5575-GNVDE    Male             0      No         No      34          Yes   \n",
       "2  3668-QPYBK    Male             0      No         No       2          Yes   \n",
       "3  7795-CFOCW    Male             0      No         No      45           No   \n",
       "4  9237-HQITU  Female             0      No         No       2          Yes   \n",
       "\n",
       "      MultipleLines InternetService OnlineSecurity  ...   DeviceProtection  \\\n",
       "0  No phone service             DSL             No  ...                 No   \n",
       "1                No             DSL            Yes  ...                Yes   \n",
       "2                No             DSL            Yes  ...                 No   \n",
       "3  No phone service             DSL            Yes  ...                Yes   \n",
       "4                No     Fiber optic             No  ...                 No   \n",
       "\n",
       "  TechSupport StreamingTV StreamingMovies        Contract PaperlessBilling  \\\n",
       "0          No          No              No  Month-to-month              Yes   \n",
       "1          No          No              No        One year               No   \n",
       "2          No          No              No  Month-to-month              Yes   \n",
       "3         Yes          No              No        One year               No   \n",
       "4          No          No              No  Month-to-month              Yes   \n",
       "\n",
       "               PaymentMethod MonthlyCharges  TotalCharges  Churn  \n",
       "0           Electronic check          29.85         29.85     No  \n",
       "1               Mailed check          56.95       1889.50     No  \n",
       "2               Mailed check          53.85        108.15    Yes  \n",
       "3  Bank transfer (automatic)          42.30       1840.75     No  \n",
       "4           Electronic check          70.70        151.65    Yes  \n",
       "\n",
       "[5 rows x 21 columns]"
      ]
     },
     "execution_count": 49,
     "metadata": {},
     "output_type": "execute_result"
    }
   ],
   "source": [
    "churn_data.head()"
   ]
  },
  {
   "cell_type": "code",
   "execution_count": 50,
   "metadata": {
    "collapsed": true
   },
   "outputs": [],
   "source": [
    "df_sex = pd.get_dummies(churn_data['gender'])\n",
    "df_partner = pd.get_dummies(churn_data['Partner'], prefix='Partner',prefix_sep=':')\n",
    "df_depend = pd.get_dummies(churn_data['Dependents'], prefix='Dependent',prefix_sep=':')\n",
    "df_phone = pd.get_dummies(churn_data['PhoneService'], prefix='Phone',prefix_sep=':')\n",
    "df_lines = pd.get_dummies(churn_data['MultipleLines'], prefix='Multi-lines',prefix_sep=':')\n",
    "df_internet = pd.get_dummies(churn_data['InternetService'], prefix='Internet', prefix_sep=':')\n",
    "df_secure = pd.get_dummies(churn_data['OnlineSecurity'], prefix='Security', prefix_sep=':')\n",
    "df_backup =  pd.get_dummies(churn_data['OnlineBackup'], prefix='Backup', prefix_sep=':')\n",
    "df_protect = pd.get_dummies(churn_data['DeviceProtection'], prefix='Protection', prefix_sep=':')\n",
    "df_support = pd.get_dummies(churn_data['TechSupport'], prefix='Support', prefix_sep=':')\n",
    "df_streamtv = pd.get_dummies(churn_data['StreamingTV'], prefix='StreamTV', prefix_sep=':')\n",
    "df_streammov = pd.get_dummies(churn_data['StreamingMovies'], prefix='StreamMov', prefix_sep=':')\n",
    "df_contract = pd.get_dummies(churn_data['Contract'], prefix='Contract', prefix_sep=':')\n",
    "df_billing = pd.get_dummies(churn_data['PaperlessBilling'], prefix='PaperlessBill', prefix_sep=':')\n",
    "df_payment = pd.get_dummies(churn_data['PaymentMethod'], prefix='Method', prefix_sep=':')\n",
    "df_churn = pd.get_dummies(churn_data['Churn'], prefix='Churn',prefix_sep=':')"
   ]
  },
  {
   "cell_type": "code",
   "execution_count": 51,
   "metadata": {
    "collapsed": true
   },
   "outputs": [],
   "source": [
    "churn_dummies = pd.concat([churn_data, df_sex, df_partner, df_depend, df_phone, df_lines, df_internet,\n",
    "                           df_secure, df_backup, df_protect, df_support, df_streamtv, df_streammov, df_contract,\n",
    "                           df_billing, df_payment, df_churn], axis=1)"
   ]
  },
  {
   "cell_type": "code",
   "execution_count": 52,
   "metadata": {
    "collapsed": false
   },
   "outputs": [],
   "source": [
    "churn_dummies['CountProducts'] = churn_dummies['Security:Yes'] + churn_dummies['Backup:Yes'] + churn_dummies['Protection:Yes'] + churn_dummies['Support:Yes'] + churn_dummies['StreamTV:Yes'] + churn_dummies['StreamMov:Yes'] "
   ]
  },
  {
   "cell_type": "code",
   "execution_count": 53,
   "metadata": {
    "collapsed": false
   },
   "outputs": [
    {
     "data": {
      "text/plain": [
       "0.0    2219\n",
       "3.0    1118\n",
       "2.0    1033\n",
       "1.0     966\n",
       "4.0     852\n",
       "5.0     571\n",
       "6.0     284\n",
       "Name: CountProducts, dtype: int64"
      ]
     },
     "execution_count": 53,
     "metadata": {},
     "output_type": "execute_result"
    }
   ],
   "source": [
    "churn_dummies['CountProducts'].value_counts()"
   ]
  },
  {
   "cell_type": "code",
   "execution_count": 54,
   "metadata": {
    "collapsed": false
   },
   "outputs": [],
   "source": [
    "# outcome data\n",
    "churn_outcome = churn_dummies['Churn:Yes']\n",
    "y = np.where(churn_outcome == 1, 1, 0)"
   ]
  },
  {
   "cell_type": "code",
   "execution_count": 55,
   "metadata": {
    "collapsed": false
   },
   "outputs": [],
   "source": [
    "# features\n",
    "churn_features = churn_dummies[['Female', 'SeniorCitizen', 'Partner:Yes', 'Dependent:Yes', 'tenure',\n",
    "                                'Phone:Yes', 'Multi-lines:Yes', 'Multi-lines:No', \n",
    "                                'Internet:DSL', 'Internet:Fiber optic', 'CountProducts', \n",
    "                                'Contract:One year', 'Contract:Two year', 'PaperlessBill:Yes', \n",
    "                                'Method:Mailed check', 'Method:Bank transfer (automatic)', \n",
    "                                'Method:Credit card (automatic)']]"
   ]
  },
  {
   "cell_type": "code",
   "execution_count": 56,
   "metadata": {
    "collapsed": true
   },
   "outputs": [],
   "source": [
    "X = churn_features\n",
    "X = churn_features.as_matrix().astype(np.float)\n",
    "scale = StandardScaler()\n",
    "X = scale.fit_transform(X)"
   ]
  },
  {
   "cell_type": "code",
   "execution_count": 57,
   "metadata": {
    "collapsed": true
   },
   "outputs": [],
   "source": [
    "\"\"\" 0 rate classifier \"\"\"\n",
    "\n",
    "y_true = y\n",
    "\n",
    "all_churn_df = churn_dummies\n",
    "all_churn_df['all_churn'] = 1.0\n",
    "all_churn = all_churn_df['all_churn']\n",
    "y_pred = np.where(all_churn == 1, 1, 0)"
   ]
  },
  {
   "cell_type": "code",
   "execution_count": 58,
   "metadata": {
    "collapsed": true
   },
   "outputs": [],
   "source": [
    "\"\"\" Models \"\"\"\n",
    "\n",
    "from sklearn.linear_model import LogisticRegressionCV as LR\n",
    "from sklearn.tree import DecisionTreeClassifier as DT\n",
    "from sklearn.ensemble import RandomForestClassifier as RF\n",
    "\n",
    "classifiers = (LR,DT,RF)"
   ]
  },
  {
   "cell_type": "code",
   "execution_count": 59,
   "metadata": {
    "collapsed": false
   },
   "outputs": [
    {
     "name": "stdout",
     "output_type": "stream",
     "text": [
      "<class 'sklearn.linear_model.logistic.LogisticRegressionCV'>\n",
      "Number of tested models: 4\n",
      "Best parameters: {'cv': 5, 'solver': 'sag', 'refit': 'True', 'class_weight': 'balanced'}\n",
      "Best score: 0.741871361636\n",
      "<class 'sklearn.tree.tree.DecisionTreeClassifier'>\n",
      "Number of tested models: 4\n",
      "Best parameters: {'splitter': 'best', 'class_weight': 'balanced', 'criterion': 'entropy'}\n",
      "Best score: 0.732784324862\n",
      "<class 'sklearn.ensemble.forest.RandomForestClassifier'>\n",
      "Number of tested models: 6\n",
      "Best parameters: {'bootstrap': 'True', 'n_estimators': 30, 'criterion': 'entropy'}\n",
      "Best score: 0.776231719438\n"
     ]
    }
   ],
   "source": [
    "\"\"\"Hyperparameter Optimization\"\"\"\n",
    "\n",
    "score_metric = 'accuracy'\n",
    "\n",
    "def optimization(classifier):\n",
    "    \"\"\"This function is designed to assign a parameter grid to each of the classification models and \n",
    "       obtain information about their performance.\"\"\"\n",
    "    if classifier == LR:\n",
    "        param_grid = {'class_weight': ['balanced'], 'solver': ['liblinear', 'sag'], 'cv': [5], 'refit': ['True', 'False']}\n",
    "    if classifier == DT:\n",
    "        param_grid = {'criterion': ['gini', 'entropy'], 'splitter': ['best', 'random'], 'class_weight': ['balanced']}\n",
    "    if classifier == RF:\n",
    "        param_grid = {'n_estimators': [10,20,30], 'criterion': ['gini', 'entropy'], 'bootstrap': ['True']}\n",
    "    print(str(classifier))\n",
    "    print('Number of tested models: %i' % np.prod([len(param_grid[element]) for element in param_grid]))\n",
    "    search = GridSearchCV(classifier(), param_grid, cv=10)\n",
    "    search.fit(X,y)\n",
    "    print('Best parameters: %s' % search.best_params_)\n",
    "    print('Best score: ' + str(search.best_score_))\n",
    "    \n",
    "# note to self: I need to do research on these hyperparameters, or maybe I just need to throw all parameters in there \n",
    "# and see what happens. I just threw these in there to obtain sort of a proof of concept. \n",
    "\n",
    "# also, I would like to figure out a way to have this function output a dictionary of the best parameters for\n",
    "# use in the model fitting stage. Maybe not a dictionary, would need it to output as a series of key-word args?\n",
    "    \n",
    "for i in classifiers:\n",
    "    optimization(i) # want to clean up what gets output here"
   ]
  },
  {
   "cell_type": "code",
   "execution_count": 60,
   "metadata": {
    "collapsed": true
   },
   "outputs": [],
   "source": [
    "\"\"\" cross validation \"\"\"\n",
    "\n",
    "def run_cv(X,y,clf_class,**kwargs):\n",
    "    kf = KFold(len(y),n_folds=5,shuffle=True, random_state=42)\n",
    "    y_pred = y.copy()\n",
    "\n",
    "    for train_index, test_index in kf:\n",
    "        X_train, X_test = X[train_index], X[test_index]\n",
    "        y_train = y[train_index]\n",
    "        clf = clf_class(**kwargs)\n",
    "        clf.fit(X_train, y_train)\n",
    "        y_pred[test_index] = clf.predict(X_test)\n",
    "    return y_pred"
   ]
  },
  {
   "cell_type": "code",
   "execution_count": 61,
   "metadata": {
    "collapsed": true
   },
   "outputs": [],
   "source": [
    "# I don't think this is the best measure of model fit. Use confusion matrices below to obtain false negative rate.\n",
    "def avg_correct(y_true, y_pred):\n",
    "    return np.mean(y_true == y_pred)"
   ]
  },
  {
   "cell_type": "code",
   "execution_count": 62,
   "metadata": {
    "collapsed": false
   },
   "outputs": [
    {
     "name": "stdout",
     "output_type": "stream",
     "text": [
      "Zero Rate:\n",
      "0.265\n",
      "Logistic Regression:\n",
      "0.741\n",
      "Decision Tree:\n",
      "0.726\n",
      "Random Forest:\n",
      "0.773\n"
     ]
    }
   ],
   "source": [
    "print(\"Zero Rate:\")\n",
    "print(\"%.3f\" % avg_correct(y_true, y_pred))\n",
    "\n",
    "print('Logistic Regression:')\n",
    "print(\"%.3f\" % avg_correct(y, run_cv(X,y,LR,refit=True, solver='sag', class_weight='balanced',cv=5)))\n",
    "\n",
    "print('Decision Tree:')\n",
    "print(\"%.3f\" % avg_correct(y, run_cv(X,y,DT,splitter='best',criterion='entropy',class_weight='balanced')))\n",
    "\n",
    "print('Random Forest:')\n",
    "print(\"%.3f\" % avg_correct(y, run_cv(X,y,RF,n_estimators=10, criterion='entropy',bootstrap=True)))"
   ]
  },
  {
   "cell_type": "code",
   "execution_count": 63,
   "metadata": {
    "collapsed": true
   },
   "outputs": [],
   "source": [
    "# Confusion Matrices\n",
    "y = np.array(y)\n",
    "class_names = np.unique(y)"
   ]
  },
  {
   "cell_type": "code",
   "execution_count": 64,
   "metadata": {
    "collapsed": false
   },
   "outputs": [
    {
     "name": "stdout",
     "output_type": "stream",
     "text": [
      "Zero Rate Classifier Confusion Matrix:\n",
      "[[   0 5174]\n",
      " [   0 1869]]\n",
      "Logistic Regression Classifier Confusion Matrix:\n",
      "[[4662  512]\n",
      " [ 882  987]]\n",
      "Decision Tree Classifier Confusion Matrix:\n",
      "[[   0 5174]\n",
      " [   0 1869]]\n",
      "Random Forest Classifier Confusion Matrix:\n",
      "[[4192  982]\n",
      " [ 995  874]]\n"
     ]
    }
   ],
   "source": [
    "zr_cm = confusion_matrix(y_true, y_pred)\n",
    "print('Zero Rate Classifier Confusion Matrix:' + '\\n' + str(zr_cm))\n",
    "\n",
    "lr_cm = confusion_matrix(y,run_cv(X,y,LR))\n",
    "print('Logistic Regression Classifier Confusion Matrix:' + '\\n' + str(lr_cm))\n",
    "\n",
    "dt_cm = confusion_matrix(y,run_cv(X,y,DT))\n",
    "print('Decision Tree Classifier Confusion Matrix:' + '\\n' + str(zr_cm))\n",
    "\n",
    "rf_cm = confusion_matrix(y,run_cv(X,y,DT))\n",
    "print('Random Forest Classifier Confusion Matrix:' + '\\n' + str(rf_cm))\n",
    "\n",
    "# I think I need to make a dictionary with the model as key and any sort of text to annotate blocks as values\n",
    "# so I can just reference that and run this in a loop"
   ]
  },
  {
   "cell_type": "code",
   "execution_count": 65,
   "metadata": {
    "collapsed": true
   },
   "outputs": [],
   "source": [
    "def false_neg(confusion_matrix):\n",
    "    false_negs = confusion_matrix[0,1]\n",
    "    true_pos = confusion_matrix[0,0]\n",
    "    denom = false_negs + true_pos\n",
    "    false_negative_rate = false_negs/denom\n",
    "    print(false_negative_rate)"
   ]
  },
  {
   "cell_type": "code",
   "execution_count": 66,
   "metadata": {
    "collapsed": false
   },
   "outputs": [
    {
     "name": "stdout",
     "output_type": "stream",
     "text": [
      "1.0\n",
      "0.0989563200618\n",
      "0.191921144182\n",
      "0.189795129494\n"
     ]
    }
   ],
   "source": [
    "cm_list = zr_cm, lr_cm, dt_cm, rf_cm\n",
    "\n",
    "for x in cm_list:\n",
    "    false_neg(x)"
   ]
  },
  {
   "cell_type": "code",
   "execution_count": null,
   "metadata": {
    "collapsed": true
   },
   "outputs": [],
   "source": []
  }
 ],
 "metadata": {
  "anaconda-cloud": {},
  "kernelspec": {
   "display_name": "Python [Root]",
   "language": "python",
   "name": "Python [Root]"
  },
  "language_info": {
   "codemirror_mode": {
    "name": "ipython",
    "version": 3
   },
   "file_extension": ".py",
   "mimetype": "text/x-python",
   "name": "python",
   "nbconvert_exporter": "python",
   "pygments_lexer": "ipython3",
   "version": "3.5.2"
  }
 },
 "nbformat": 4,
 "nbformat_minor": 0
}
